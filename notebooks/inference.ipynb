{
 "cells": [
  {
   "cell_type": "code",
   "execution_count": null,
   "id": "055804d1",
   "metadata": {},
   "outputs": [],
   "source": [
    "import tensorflow as tf\n",
    "import numpy as np"
   ]
  },
  {
   "cell_type": "code",
   "execution_count": null,
   "id": "2bb25cde",
   "metadata": {},
   "outputs": [],
   "source": [
    "fpath = './sample_image.jpg'\n",
    "image_size = (224, 224)\n",
    "model_loaded = tf.keras.models.load_model('./hd_mobilenet_v3_large_100_224')\n",
    "\n",
    "img = tf.keras.preprocessing.image.load_img(\n",
    "    fpath,\n",
    "    grayscale=False,\n",
    "    color_mode='rgb',\n",
    "    target_size=image_size,\n",
    "    interpolation='bilinear')\n",
    "\n",
    "input_array = tf.keras.preprocessing.image.img_to_array(img)\n",
    "prediction = model_loaded.predict(np.expand_dims(input_array, axis = 0)/255)\n",
    "\n",
    "print('Is pastel:', bool(np.argmax(prediction)))"
   ]
  },
  {
   "cell_type": "code",
   "execution_count": null,
   "id": "0579b028",
   "metadata": {},
   "outputs": [],
   "source": []
  }
 ],
 "metadata": {
  "kernelspec": {
   "display_name": "Python 3",
   "language": "python",
   "name": "python3"
  },
  "language_info": {
   "codemirror_mode": {
    "name": "ipython",
    "version": 3
   },
   "file_extension": ".py",
   "mimetype": "text/x-python",
   "name": "python",
   "nbconvert_exporter": "python",
   "pygments_lexer": "ipython3",
   "version": "3.7.10"
  }
 },
 "nbformat": 4,
 "nbformat_minor": 5
}
